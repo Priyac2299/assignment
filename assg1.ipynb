{
 "cells": [
  {
   "cell_type": "markdown",
   "id": "5d150270",
   "metadata": {},
   "source": [
    "# (1).data types"
   ]
  },
  {
   "cell_type": "code",
   "execution_count": 2,
   "id": "80e82473",
   "metadata": {},
   "outputs": [
    {
     "name": "stdout",
     "output_type": "stream",
     "text": [
      "addition: 11\n"
     ]
    }
   ],
   "source": [
    "#(1).program to find addition of two number \n",
    "a = 6\n",
    "b = 5\n",
    "sum = a + b\n",
    "print(\"addition:\",sum)"
   ]
  },
  {
   "cell_type": "code",
   "execution_count": 4,
   "id": "5c0852a9",
   "metadata": {},
   "outputs": [
    {
     "name": "stdout",
     "output_type": "stream",
     "text": [
      "enter height:6\n",
      "enter base:4\n",
      "area of the triangle is: 12.0\n"
     ]
    }
   ],
   "source": [
    "#(2).program to find area of triangle\n",
    "a=int(input(\"enter height:\"))\n",
    "b=int(input(\"enter base:\"))\n",
    "area=0.5*a*b\n",
    "print(\"area of the triangle is:\",area)"
   ]
  },
  {
   "cell_type": "code",
   "execution_count": 7,
   "id": "3cd5fb3b",
   "metadata": {},
   "outputs": [
    {
     "name": "stdout",
     "output_type": "stream",
     "text": [
      "enter radius4.5\n",
      "area of circle 63.585\n"
     ]
    }
   ],
   "source": [
    "# (3).program to find area of circle\n",
    "a=float(input(\"enter radius\"))\n",
    "area=3.14*a*a\n",
    "print(\"area of circle\",area)"
   ]
  },
  {
   "cell_type": "code",
   "execution_count": 8,
   "id": "2a78a4d5",
   "metadata": {},
   "outputs": [],
   "source": [
    "#(4).difference between list and tuple\n",
    "# (a)list\n",
    "#     Mutable: Lists are mutable, meaning you can add, remove, or modify elements after the list has been created.\n",
    "#     Lists are created using square brackets [].\n",
    "# (b)tuple\n",
    "#     Tuples are immutable, meaning once a tuple is created, you cannot change the elements it contains.\n",
    "#     Tuples are created using parentheses ()."
   ]
  },
  {
   "cell_type": "code",
   "execution_count": 9,
   "id": "8d7cf732",
   "metadata": {},
   "outputs": [],
   "source": [
    "#(5).difference between dictionory and set \n",
    "#(a)dictionary\n",
    "#   A dictionary is a collection of key-value pairs where each key is unique within the dictionary.\n",
    "#   In a dictionary, elements are accessed and manipulated using keys.\n",
    "#(b)set\n",
    "#   A set is an unordered collection of unique elements.\n",
    "#   In a set, elements are accessed directly, and they are used mainly for membership testing and eliminating\n",
    "#   duplicate elements from another collection."
   ]
  },
  {
   "cell_type": "markdown",
   "id": "26ff18f7",
   "metadata": {},
   "source": [
    "# (2)loops"
   ]
  },
  {
   "cell_type": "code",
   "execution_count": 10,
   "id": "b3ec22b4",
   "metadata": {},
   "outputs": [
    {
     "name": "stdout",
     "output_type": "stream",
     "text": [
      "1\n",
      "2\n",
      "3\n",
      "4\n",
      "5\n"
     ]
    }
   ],
   "source": [
    "# (1).Program to print numbers from 1 to 5 using a for loop\n",
    "for i in range(1, 6):\n",
    "    print(i)"
   ]
  },
  {
   "cell_type": "code",
   "execution_count": 11,
   "id": "dccd61b2",
   "metadata": {},
   "outputs": [
    {
     "name": "stdout",
     "output_type": "stream",
     "text": [
      "enter a no 7\n",
      "prime\n"
     ]
    }
   ],
   "source": [
    "# (2).program to check prime no.\n",
    "n=int(input(\"enter a no \"))\n",
    "if n==1:\n",
    "    print(\"not prime\")\n",
    "if n>1:\n",
    "    for i in (2,n-1):\n",
    "        if(n%i==0):\n",
    "            print(\"not a prime\")\n",
    "            break\n",
    "    else:\n",
    "        print(\"prime\")\n",
    "        "
   ]
  },
  {
   "cell_type": "code",
   "execution_count": 12,
   "id": "52ab0f83",
   "metadata": {},
   "outputs": [
    {
     "name": "stdout",
     "output_type": "stream",
     "text": [
      "enter no6\n",
      "720\n"
     ]
    }
   ],
   "source": [
    "# (3).program to find factorial of any number\n",
    "n=int(input(\"enter no\"))\n",
    "fact=1\n",
    "if(i<0):\n",
    "    print(\"does not exist \")\n",
    "if(i==0):\n",
    "    print(\"factorial is 1\")\n",
    "if(i>0):\n",
    "    for i in range(1,n+1):\n",
    "        fact=fact*i\n",
    "print(fact)"
   ]
  },
  {
   "cell_type": "code",
   "execution_count": 13,
   "id": "76f86d26",
   "metadata": {},
   "outputs": [
    {
     "name": "stdout",
     "output_type": "stream",
     "text": [
      "enter lower limit 5\n",
      "enter upper limit30\n",
      "5\n",
      "7\n",
      "11\n",
      "13\n",
      "17\n",
      "19\n",
      "23\n",
      "29\n"
     ]
    }
   ],
   "source": [
    "#(4).program to write prime of in the interval.\n",
    "l=int(input(\"enter lower limit \"))\n",
    "u=int(input(\"enter upper limit\"))\n",
    "\n",
    "for num in range(l,u+1):\n",
    "    if num>1:\n",
    "        for i in range(2,num):\n",
    "            if(num%i==0):\n",
    "                break\n",
    "        else:\n",
    "            print(num)"
   ]
  },
  {
   "cell_type": "code",
   "execution_count": 14,
   "id": "8cfd0258",
   "metadata": {},
   "outputs": [
    {
     "name": "stdout",
     "output_type": "stream",
     "text": [
      "0 1 1 2 3 5 8 13 "
     ]
    }
   ],
   "source": [
    "#(5).program of fibonacci\n",
    "a=0\n",
    "b=1\n",
    "for i in range(1,9):\n",
    "    print(a,end=\" \")\n",
    "    c=a+b\n",
    "    a,b=b,c\n"
   ]
  },
  {
   "cell_type": "markdown",
   "id": "3081488d",
   "metadata": {},
   "source": [
    "# (3)function"
   ]
  },
  {
   "cell_type": "code",
   "execution_count": 15,
   "id": "503b53cc",
   "metadata": {},
   "outputs": [
    {
     "name": "stdout",
     "output_type": "stream",
     "text": [
      "enter 1st value14\n",
      "enter 2nd no34\n",
      "Addition is 48\n"
     ]
    }
   ],
   "source": [
    "# (1)addition of two number using function\n",
    "def add(x, y):  \n",
    "    c = x + y\n",
    "    return c\n",
    "    print(c)\n",
    "\n",
    "\n",
    "a = int(input(\"enter 1st value\"))\n",
    "b = int(input(\"enter 2nd no\"))\n",
    "result = add(a, b)  \n",
    "print(\"Addition is\", result)"
   ]
  },
  {
   "cell_type": "code",
   "execution_count": 27,
   "id": "7212b9db",
   "metadata": {},
   "outputs": [
    {
     "name": "stdout",
     "output_type": "stream",
     "text": [
      "enter a number87\n",
      "no is odd\n"
     ]
    }
   ],
   "source": [
    "#(2)check odd or even using function\n",
    "def test(x):\n",
    "    if(x%2==0):\n",
    "        print(\"no is even\")\n",
    "    else:\n",
    "        print(\"no is odd\")\n",
    "        \n",
    "x=int(input(\"enter a number\"))\n",
    "test(x)\n",
    "        "
   ]
  },
  {
   "cell_type": "code",
   "execution_count": 36,
   "id": "106393b6",
   "metadata": {},
   "outputs": [
    {
     "name": "stdout",
     "output_type": "stream",
     "text": [
      "Enter the 1st number: 7\n",
      "Enter the 2nd number: 8\n",
      "Before swapping: num1 = 7 and num2 = 8\n",
      "After swapping: num1 = 8 and num2 = 7\n"
     ]
    }
   ],
   "source": [
    "# (3).program to swap two number using function\n",
    "def swap_numbers(a, b):\n",
    "    temp = a\n",
    "    a = b\n",
    "    b = temp\n",
    "    return a, b\n",
    "num1 = int(input(\"Enter the 1st number: \"))\n",
    "num2 = int(input(\"Enter the 2nd number: \"))\n",
    "print(\"Before swapping: num1 =\", num1, \"and num2 =\", num2)\n",
    "num1, num2 = swap_numbers(num1, num2)\n",
    "print(\"After swapping: num1 =\", num1, \"and num2 =\", num2)"
   ]
  },
  {
   "cell_type": "code",
   "execution_count": 24,
   "id": "276d8d28",
   "metadata": {},
   "outputs": [
    {
     "name": "stdout",
     "output_type": "stream",
     "text": [
      "No of Even = 5 No of Odds= 1\n"
     ]
    }
   ],
   "source": [
    "#(4).program to check count of  odd even no in the list using funtion\n",
    "def even_odd(lst):\n",
    "    even = 0\n",
    "    odd = 0\n",
    "    for i in lst:\n",
    "        if i % 2 == 0:\n",
    "            even += 1\n",
    "        else:\n",
    "            odd += 1\n",
    "    return even, odd\n",
    "lst = [20, 15, 16, 80, 90, 34]\n",
    "ev, od = even_odd(lst)\n",
    "print(\"No of Even =\", ev, \"No of Odds=\", od)"
   ]
  },
  {
   "cell_type": "code",
   "execution_count": 37,
   "id": "cb209719",
   "metadata": {},
   "outputs": [
    {
     "name": "stdout",
     "output_type": "stream",
     "text": [
      "10\n"
     ]
    }
   ],
   "source": [
    "#(5).what is call by value and call by reference in function \n",
    "# Call by Value:\n",
    "# In call by value, a copy of the actual parameter's value is passed to the function.\n",
    "# Any changes made to the parameter within the function do not affect the original value outside the function.\n",
    "\n",
    "def increment(x):\n",
    "    x += 1\n",
    "\n",
    "num = 10\n",
    "increment(num)\n",
    "print(num) "
   ]
  },
  {
   "cell_type": "code",
   "execution_count": 38,
   "id": "662b2139",
   "metadata": {},
   "outputs": [
    {
     "name": "stdout",
     "output_type": "stream",
     "text": [
      "[1, 2, 3, 4]\n"
     ]
    }
   ],
   "source": [
    "# Call by Reference:\n",
    "# In call by reference, a reference to the actual parameter's memory location is passed to the function.\n",
    "# Any changes made to the parameter within the function affect the original value outside the function.\n",
    "def append_element(lst):\n",
    "    lst.append(4)\n",
    "\n",
    "my_list = [1, 2, 3]\n",
    "append_element(my_list)\n",
    "print(my_list) "
   ]
  },
  {
   "cell_type": "code",
   "execution_count": null,
   "id": "dd612e29",
   "metadata": {},
   "outputs": [],
   "source": []
  }
 ],
 "metadata": {
  "kernelspec": {
   "display_name": "Python 3 (ipykernel)",
   "language": "python",
   "name": "python3"
  },
  "language_info": {
   "codemirror_mode": {
    "name": "ipython",
    "version": 3
   },
   "file_extension": ".py",
   "mimetype": "text/x-python",
   "name": "python",
   "nbconvert_exporter": "python",
   "pygments_lexer": "ipython3",
   "version": "3.9.18"
  }
 },
 "nbformat": 4,
 "nbformat_minor": 5
}
