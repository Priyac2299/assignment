{
 "cells": [
  {
   "cell_type": "markdown",
   "id": "2dbb31c8",
   "metadata": {},
   "source": [
    "# Q.1 Mention the different types of Data Structures in Pandas ?"
   ]
  },
  {
   "cell_type": "code",
   "execution_count": 1,
   "id": "c6b0efa9",
   "metadata": {},
   "outputs": [],
   "source": [
    "# Series: A Series is a one-dimensional array-like object containing a sequence of values and an associated array of datalabels \n",
    "# called its index. It can hold any data type.\n",
    "# \n",
    "# DataFrame: A DataFrame is a two-dimensional labeled data structure with columns of potentially different types. It is similar \n",
    "# to a spreadsheet or SQL table, or a dictionary of Series objects. It is the most commonly used data structure in Pandas."
   ]
  },
  {
   "cell_type": "markdown",
   "id": "e377ddf5",
   "metadata": {},
   "source": [
    "# Q.2 What are the significant features of the pandas library ?"
   ]
  },
  {
   "cell_type": "code",
   "execution_count": 2,
   "id": "02ce4e46",
   "metadata": {},
   "outputs": [],
   "source": [
    "# DataFrame: The DataFrame object allows for easy handling of structured data, similar to a spreadsheet or SQL table, with rows \n",
    "# and columns.\n",
    "# \n",
    "# Data Manipulation: Pandas provides a wide range of functions for data manipulation, including filtering, sorting, grouping, \n",
    "# joining, and reshaping data.\n",
    "# \n",
    "# Missing Data Handling: It provides robust methods for dealing with missing data, allowing users to either remove, fill, or\n",
    "# interpolate missing values.\n",
    "# \n",
    "# Data Visualization: While not a core feature of Pandas itself, it integrates well with other Python libraries like Matplotlib \n",
    "# and Seaborn for data visualization.\n",
    "# \n",
    "# High Performance: Pandas is designed for performance and scalability, with many operations optimized for speed."
   ]
  },
  {
   "cell_type": "markdown",
   "id": "1353f615",
   "metadata": {},
   "source": [
    "# Q.3 How can we create a copy of the series in Pandas ?"
   ]
  },
  {
   "cell_type": "code",
   "execution_count": 3,
   "id": "07132f67",
   "metadata": {},
   "outputs": [],
   "source": [
    "import pandas as pd "
   ]
  },
  {
   "cell_type": "code",
   "execution_count": 4,
   "id": "76466a1a",
   "metadata": {},
   "outputs": [
    {
     "data": {
      "text/plain": [
       "0    1\n",
       "1    2\n",
       "2    3\n",
       "3    4\n",
       "4    5\n",
       "dtype: int64"
      ]
     },
     "execution_count": 4,
     "metadata": {},
     "output_type": "execute_result"
    }
   ],
   "source": [
    "a = pd.Series([1,2,3,4,5])\n",
    "a"
   ]
  },
  {
   "cell_type": "code",
   "execution_count": 5,
   "id": "8df7b3e0",
   "metadata": {},
   "outputs": [
    {
     "data": {
      "text/plain": [
       "0    1\n",
       "1    2\n",
       "2    3\n",
       "3    4\n",
       "4    5\n",
       "dtype: int64"
      ]
     },
     "execution_count": 5,
     "metadata": {},
     "output_type": "execute_result"
    }
   ],
   "source": [
    "copied=a.copy()\n",
    "copied"
   ]
  },
  {
   "cell_type": "markdown",
   "id": "8f39b63a",
   "metadata": {},
   "source": [
    "# Q.4 Explain Categorical data in Pandas ?"
   ]
  },
  {
   "cell_type": "code",
   "execution_count": 6,
   "id": "68506bac",
   "metadata": {},
   "outputs": [],
   "source": [
    "# Categoricals are a pandas data type corresponding to categorical variables in statistics. A categorical variable takes on a \n",
    "# limited, and usually fixed, number of possible values"
   ]
  },
  {
   "cell_type": "code",
   "execution_count": 7,
   "id": "d3c4c362",
   "metadata": {},
   "outputs": [
    {
     "data": {
      "text/plain": [
       "0       Anu\n",
       "1       Ben\n",
       "2       Anu\n",
       "3    Chandu\n",
       "4       Ben\n",
       "5       Anu\n",
       "dtype: object"
      ]
     },
     "execution_count": 7,
     "metadata": {},
     "output_type": "execute_result"
    }
   ],
   "source": [
    "b = pd.Series([\"Anu\", \"Ben\", \"Anu\", \"Chandu\", \"Ben\", \"Anu\"])\n",
    "b"
   ]
  },
  {
   "cell_type": "code",
   "execution_count": 8,
   "id": "99c0133f",
   "metadata": {},
   "outputs": [
    {
     "data": {
      "text/plain": [
       "['Anu', 'Ben', 'Anu', 'Chandu', 'Ben', 'Anu']\n",
       "Categories (3, object): ['Anu', 'Ben', 'Chandu']"
      ]
     },
     "execution_count": 8,
     "metadata": {},
     "output_type": "execute_result"
    }
   ],
   "source": [
    "categorical_data = pd.Categorical(b)\n",
    "categorical_data"
   ]
  },
  {
   "cell_type": "markdown",
   "id": "8285ffb1",
   "metadata": {},
   "source": [
    "# Q.5 Explain the Reindexing in pandas along with its parameters ?"
   ]
  },
  {
   "cell_type": "code",
   "execution_count": 9,
   "id": "94d81fa5",
   "metadata": {},
   "outputs": [],
   "source": [
    "# Reindexing is used to change the index of the rows and columns of the DataFrame. We can reindex the single or multiple rows\n",
    "# by using the reindex() method. Default values in the new index are assigned NaN if it is not present in the DataFrame."
   ]
  },
  {
   "cell_type": "code",
   "execution_count": 10,
   "id": "54851831",
   "metadata": {},
   "outputs": [
    {
     "data": {
      "text/plain": [
       "a    1\n",
       "b    2\n",
       "c    3\n",
       "dtype: int64"
      ]
     },
     "execution_count": 10,
     "metadata": {},
     "output_type": "execute_result"
    }
   ],
   "source": [
    "b = pd.Series([1, 2, 3], index=['a', 'b', 'c'])\n",
    "b"
   ]
  },
  {
   "cell_type": "code",
   "execution_count": 13,
   "id": "655114b9",
   "metadata": {},
   "outputs": [
    {
     "data": {
      "text/plain": [
       "a    1.0\n",
       "b    2.0\n",
       "d    NaN\n",
       "e    NaN\n",
       "dtype: float64"
      ]
     },
     "execution_count": 13,
     "metadata": {},
     "output_type": "execute_result"
    }
   ],
   "source": [
    "new_index = ['a', 'b', 'd', 'e']\n",
    "reindexed = b.reindex(new_index)\n",
    "reindexed"
   ]
  },
  {
   "cell_type": "markdown",
   "id": "fe1fa2c6",
   "metadata": {},
   "source": [
    "# Q.6 Explain Multi-Indexing in pandas ?"
   ]
  },
  {
   "cell_type": "code",
   "execution_count": 14,
   "id": "e88b48e3",
   "metadata": {},
   "outputs": [],
   "source": [
    "# Multi-indexing, also known as hierarchical indexing, is a feature in Pandas that enables you to work with higher-dimensional \n",
    "# data in a two-dimensional DataFrame structure. It allows you to index and select data based on multiple levels of row and \n",
    "# column labels, providing a way to represent and analyze data that has multiple dimensions or categorical hierarchies."
   ]
  },
  {
   "cell_type": "code",
   "execution_count": 15,
   "id": "6a4cc5ab",
   "metadata": {},
   "outputs": [
    {
     "name": "stdout",
     "output_type": "stream",
     "text": [
      "Dimension        X     Y     Z\n",
      "Measure      Value Value Value\n",
      "Group  Label                  \n",
      "Group1 A       NaN   NaN   NaN\n",
      "       B       NaN   NaN   NaN\n",
      "Group2 A       NaN   NaN   NaN\n",
      "       B       NaN   NaN   NaN\n"
     ]
    }
   ],
   "source": [
    "data = {\n",
    "    'A': [1, 2, 3, 4],\n",
    "    'B': [5, 6, 7, 8],\n",
    "    'C': [9, 10, 11, 12]\n",
    "}\n",
    "index = pd.MultiIndex.from_tuples([('Group1', 'A'), ('Group1', 'B'), ('Group2', 'A'), ('Group2', 'B')],\n",
    "                                  names=['Group', 'Label'])\n",
    "columns = pd.MultiIndex.from_tuples([('X', 'Value'), ('Y', 'Value'), ('Z', 'Value')],\n",
    "                                     names=['Dimension', 'Measure'])\n",
    "\n",
    "df = pd.DataFrame(data, index=index, columns=columns)\n",
    "print(df)"
   ]
  },
  {
   "cell_type": "markdown",
   "id": "f8e03dfb",
   "metadata": {},
   "source": [
    "# Q.7 How can we convert Series to dataframe ?"
   ]
  },
  {
   "cell_type": "code",
   "execution_count": 16,
   "id": "a64190c6",
   "metadata": {},
   "outputs": [
    {
     "name": "stdout",
     "output_type": "stream",
     "text": [
      "   col\n",
      "0    1\n",
      "1    2\n",
      "2    3\n",
      "3    4\n",
      "4    5\n"
     ]
    }
   ],
   "source": [
    "c= pd.Series([1, 2, 3, 4, 5],name=\"col\")\n",
    "df = c.to_frame()\n",
    "print(df)"
   ]
  },
  {
   "cell_type": "markdown",
   "id": "017bc17a",
   "metadata": {},
   "source": [
    "# Q.8 How can we convert Dataframe to Numpy Array ?"
   ]
  },
  {
   "cell_type": "code",
   "execution_count": 17,
   "id": "384f5b61",
   "metadata": {},
   "outputs": [
    {
     "name": "stdout",
     "output_type": "stream",
     "text": [
      "[[1 4]\n",
      " [2 5]\n",
      " [3 6]]\n"
     ]
    }
   ],
   "source": [
    "df1 = pd.DataFrame({'A': [1, 2, 3], 'B': [4, 5, 6]})\n",
    "numpy_array = df1.values\n",
    "print(numpy_array)"
   ]
  },
  {
   "cell_type": "markdown",
   "id": "a2ff1709",
   "metadata": {},
   "source": [
    "# Q.9 How can we convert Dataframe to an excel file ?"
   ]
  },
  {
   "cell_type": "code",
   "execution_count": 42,
   "id": "62c40274",
   "metadata": {},
   "outputs": [],
   "source": [
    "import pandas as pd"
   ]
  },
  {
   "cell_type": "code",
   "execution_count": 45,
   "id": "9a26f524",
   "metadata": {},
   "outputs": [
    {
     "data": {
      "text/html": [
       "<div>\n",
       "<style scoped>\n",
       "    .dataframe tbody tr th:only-of-type {\n",
       "        vertical-align: middle;\n",
       "    }\n",
       "\n",
       "    .dataframe tbody tr th {\n",
       "        vertical-align: top;\n",
       "    }\n",
       "\n",
       "    .dataframe thead th {\n",
       "        text-align: right;\n",
       "    }\n",
       "</style>\n",
       "<table border=\"1\" class=\"dataframe\">\n",
       "  <thead>\n",
       "    <tr style=\"text-align: right;\">\n",
       "      <th></th>\n",
       "      <th>A</th>\n",
       "      <th>B</th>\n",
       "    </tr>\n",
       "  </thead>\n",
       "  <tbody>\n",
       "    <tr>\n",
       "      <th>0</th>\n",
       "      <td>1</td>\n",
       "      <td>4</td>\n",
       "    </tr>\n",
       "    <tr>\n",
       "      <th>1</th>\n",
       "      <td>2</td>\n",
       "      <td>5</td>\n",
       "    </tr>\n",
       "    <tr>\n",
       "      <th>2</th>\n",
       "      <td>3</td>\n",
       "      <td>6</td>\n",
       "    </tr>\n",
       "  </tbody>\n",
       "</table>\n",
       "</div>"
      ],
      "text/plain": [
       "   A  B\n",
       "0  1  4\n",
       "1  2  5\n",
       "2  3  6"
      ]
     },
     "execution_count": 45,
     "metadata": {},
     "output_type": "execute_result"
    }
   ],
   "source": [
    "d=pd.DataFrame({'A': [1, 2, 3], 'B': [4, 5, 6]})\n",
    "d"
   ]
  },
  {
   "cell_type": "code",
   "execution_count": 49,
   "id": "4243255c",
   "metadata": {},
   "outputs": [],
   "source": [
    "e=d.to_csv(\"C:\\\\Users\\\\MY LAPPY HOUSE\\\\Downloads\\\\file1.csv\")\n",
    "e"
   ]
  },
  {
   "cell_type": "markdown",
   "id": "ee6406f7",
   "metadata": {},
   "source": [
    "# Q.10 How would you iterate over rows in a dataframe in pandas ?"
   ]
  },
  {
   "cell_type": "code",
   "execution_count": 33,
   "id": "a7e84f5f",
   "metadata": {},
   "outputs": [
    {
     "name": "stdout",
     "output_type": "stream",
     "text": [
      "Row index: 0\n",
      "Row values:\n",
      "A    1\n",
      "B    4\n",
      "Name: 0, dtype: int64\n",
      "Row index: 1\n",
      "Row values:\n",
      "A    2\n",
      "B    5\n",
      "Name: 1, dtype: int64\n",
      "Row index: 2\n",
      "Row values:\n",
      "A    3\n",
      "B    6\n",
      "Name: 2, dtype: int64\n"
     ]
    }
   ],
   "source": [
    "df = pd.DataFrame({'A': [1, 2, 3], 'B': [4, 5, 6]})\n",
    "for i in range(len(df)):\n",
    "    print(f'Row index: {i}')\n",
    "    print('Row values:')\n",
    "    print(df.iloc[i])"
   ]
  },
  {
   "cell_type": "code",
   "execution_count": null,
   "id": "186f5eb2",
   "metadata": {},
   "outputs": [],
   "source": []
  }
 ],
 "metadata": {
  "kernelspec": {
   "display_name": "Python 3 (ipykernel)",
   "language": "python",
   "name": "python3"
  },
  "language_info": {
   "codemirror_mode": {
    "name": "ipython",
    "version": 3
   },
   "file_extension": ".py",
   "mimetype": "text/x-python",
   "name": "python",
   "nbconvert_exporter": "python",
   "pygments_lexer": "ipython3",
   "version": "3.9.18"
  }
 },
 "nbformat": 4,
 "nbformat_minor": 5
}
