{
 "cells": [
  {
   "cell_type": "markdown",
   "id": "1b75b6ec",
   "metadata": {},
   "source": [
    "# Q.1 Write a program to check given number is even or odd ?"
   ]
  },
  {
   "cell_type": "code",
   "execution_count": 29,
   "id": "ea41cf60",
   "metadata": {},
   "outputs": [
    {
     "name": "stdout",
     "output_type": "stream",
     "text": [
      "enter a number:56\n",
      "number is even\n"
     ]
    }
   ],
   "source": [
    "x=int(input(\"enter a number:\"))\n",
    "if(x%2==0):\n",
    "    print(\"number is even\")\n",
    "else:\n",
    "    print(\"number is odd\")"
   ]
  },
  {
   "cell_type": "markdown",
   "id": "116bdc79",
   "metadata": {},
   "source": [
    "# Q.2  Write a program to check given character is a vowel or consonant ? "
   ]
  },
  {
   "cell_type": "code",
   "execution_count": 30,
   "id": "79a265e4",
   "metadata": {},
   "outputs": [
    {
     "name": "stdout",
     "output_type": "stream",
     "text": [
      "enter a character:f\n",
      "character is consonant\n"
     ]
    }
   ],
   "source": [
    "char=input(\"enter a character:\")\n",
    "if(char in ['a','e','i','o','u','A','E','I','O','U']):\n",
    "    print(\"character is vowel\")\n",
    "else:\n",
    "    print(\"character is consonant\")"
   ]
  },
  {
   "cell_type": "markdown",
   "id": "9565f72c",
   "metadata": {},
   "source": [
    "# Q.3 Write a program to count vowels and consonants in the string ?"
   ]
  },
  {
   "cell_type": "code",
   "execution_count": 31,
   "id": "1619ab7c",
   "metadata": {},
   "outputs": [
    {
     "name": "stdout",
     "output_type": "stream",
     "text": [
      "enter your string:priyanka\n",
      "Number of vowels: 3\n",
      "Number of consonants: 5\n"
     ]
    }
   ],
   "source": [
    "string=input(\"enter your string:\")\n",
    "vowels = 0\n",
    "consonants = 0\n",
    "string = string.lower()\n",
    "for char in string:\n",
    "    if char in ['a', 'e', 'i', 'o', 'u']:\n",
    "        vowels += 1\n",
    "    else:\n",
    "        consonants += 1\n",
    "\n",
    "print(\"Number of vowels:\", vowels)\n",
    "print(\"Number of consonants:\", consonants)"
   ]
  },
  {
   "cell_type": "markdown",
   "id": "98640cfb",
   "metadata": {},
   "source": [
    "# Q.4 Write a program to remove spaces from string without inbuilt function ? "
   ]
  },
  {
   "cell_type": "code",
   "execution_count": 32,
   "id": "eabc3a6d",
   "metadata": {},
   "outputs": [
    {
     "name": "stdout",
     "output_type": "stream",
     "text": [
      "Enter a string with spaces: pr i ya \n",
      "String after removing spaces: priya\n"
     ]
    }
   ],
   "source": [
    "string = input(\"Enter a string with spaces: \")\n",
    "result = \"\"\n",
    "for char in string:\n",
    "    if char != ' ':\n",
    "            result += char\n",
    "print(\"String after removing spaces:\", resultstring)"
   ]
  }
 ],
 "metadata": {
  "kernelspec": {
   "display_name": "Python 3 (ipykernel)",
   "language": "python",
   "name": "python3"
  },
  "language_info": {
   "codemirror_mode": {
    "name": "ipython",
    "version": 3
   },
   "file_extension": ".py",
   "mimetype": "text/x-python",
   "name": "python",
   "nbconvert_exporter": "python",
   "pygments_lexer": "ipython3",
   "version": "3.9.18"
  }
 },
 "nbformat": 4,
 "nbformat_minor": 5
}
