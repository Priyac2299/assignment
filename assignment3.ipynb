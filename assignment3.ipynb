{
 "cells": [
  {
   "cell_type": "markdown",
   "id": "deb59ab5",
   "metadata": {},
   "source": [
    "# Q.1 Converting an Integer into Decimals ?"
   ]
  },
  {
   "cell_type": "code",
   "execution_count": 2,
   "id": "b2f24dc2",
   "metadata": {},
   "outputs": [
    {
     "name": "stdout",
     "output_type": "stream",
     "text": [
      "enter your interger value 56\n",
      "converted integer into decimal is: 56.0\n"
     ]
    }
   ],
   "source": [
    "integer=int(input(\"enter your interger value \"))\n",
    "decimal_value=float(integer)\n",
    "print(\"converted integer into decimal is:\",decimal_value)"
   ]
  },
  {
   "cell_type": "markdown",
   "id": "b664651c",
   "metadata": {},
   "source": [
    "# Q.2 Converting an String of Integers into Decimals ?"
   ]
  },
  {
   "cell_type": "code",
   "execution_count": 4,
   "id": "7c9fd251",
   "metadata": {},
   "outputs": [
    {
     "name": "stdout",
     "output_type": "stream",
     "text": [
      "enter interger value:22\n",
      "converted string of integer into decimal is 22.0\n"
     ]
    }
   ],
   "source": [
    "string_int=input(\"enter interger value:\")\n",
    "decimal_val=float(string_int)\n",
    "print(\"converted string of integer into decimal is\",decimal_val)\n"
   ]
  },
  {
   "cell_type": "markdown",
   "id": "5197004b",
   "metadata": {},
   "source": [
    "# Q.3 Reversing a string using an Extended Slicing Technique ?"
   ]
  },
  {
   "cell_type": "code",
   "execution_count": 6,
   "id": "10afae80",
   "metadata": {},
   "outputs": [
    {
     "name": "stdout",
     "output_type": "stream",
     "text": [
      "enter your stringmy name is priyanka\n",
      "reversed string is : aknayirp si eman ym\n"
     ]
    }
   ],
   "source": [
    "string=str(input(\"enter your string\"))\n",
    "reversed_string=string[::-1]\n",
    "print(\"reversed string is :\",reversed_string)"
   ]
  },
  {
   "cell_type": "markdown",
   "id": "0e57f2dc",
   "metadata": {},
   "source": [
    "# Q.4 Counting the number of occurances of a character in a string ?"
   ]
  },
  {
   "cell_type": "code",
   "execution_count": 7,
   "id": "cdba2450",
   "metadata": {},
   "outputs": [
    {
     "name": "stdout",
     "output_type": "stream",
     "text": [
      "enter your stringmy name is priyanka\n",
      "enter character for counta\n",
      "The character 'a' occurs 3 times in the string.\n"
     ]
    }
   ],
   "source": [
    "string=input(\"enter your string\")\n",
    "character=input(\"enter character for count\")\n",
    "count = 0\n",
    "for char in string:\n",
    "    if char == character:\n",
    "        count += 1\n",
    "print(f\"The character '{character}' occurs {count} times in the string.\")"
   ]
  },
  {
   "cell_type": "markdown",
   "id": "708e4d63",
   "metadata": {},
   "source": [
    "# Q.5 Find the maximum and minimum number in a list ?"
   ]
  },
  {
   "cell_type": "code",
   "execution_count": 11,
   "id": "6c41d240",
   "metadata": {},
   "outputs": [
    {
     "name": "stdout",
     "output_type": "stream",
     "text": [
      "Minimum number: 1\n",
      "Maximum number: 6\n"
     ]
    }
   ],
   "source": [
    "list = [1,2,3,4,5,6]\n",
    "maxnum = list[0]\n",
    "minnum = list[0]\n",
    "for i in list:\n",
    "    if i > maxnum:\n",
    "        maxnum = i\n",
    "    elif i < minnum:\n",
    "        minnum = i\n",
    "print(\"Minimum number:\", minnum)\n",
    "print(\"Maximum number:\", maxnum)"
   ]
  },
  {
   "cell_type": "markdown",
   "id": "d5cfeced",
   "metadata": {},
   "source": [
    "# Q.6 Find the middle element in a list ?"
   ]
  },
  {
   "cell_type": "code",
   "execution_count": 12,
   "id": "ece39074",
   "metadata": {},
   "outputs": [
    {
     "name": "stdout",
     "output_type": "stream",
     "text": [
      "Middle element: 3\n"
     ]
    }
   ],
   "source": [
    "list1 = [1, 2, 3, 4, 5]\n",
    "mid_idx = len(list1) // 2\n",
    "if len(list1) % 2 != 0:\n",
    "    middle_element = list1[mid_idx]\n",
    "    print(\"Middle element:\", middle_element)\n",
    "else:\n",
    "    middle_element1 = list1[mid_idx - 1]\n",
    "    middle_element2 = list1[mid_idx]\n",
    "    print(\"Middle elements:\", middle_element1, \"and\", middle_element2)"
   ]
  },
  {
   "cell_type": "markdown",
   "id": "c1637f1f",
   "metadata": {},
   "source": [
    "# Q.7 Converting a list into a string ?"
   ]
  },
  {
   "cell_type": "code",
   "execution_count": 16,
   "id": "09340c12",
   "metadata": {},
   "outputs": [
    {
     "name": "stdout",
     "output_type": "stream",
     "text": [
      "converting a list into string: priya sam anu\n"
     ]
    }
   ],
   "source": [
    "list3=[\"priya\",\"sam\",\"anu\"]\n",
    "convert=\" \".join(list3)\n",
    "print(\"converting a list into string:\",convert)"
   ]
  },
  {
   "cell_type": "markdown",
   "id": "b281c930",
   "metadata": {},
   "source": [
    "# Q.8 Adding two list elements together ?"
   ]
  },
  {
   "cell_type": "code",
   "execution_count": 18,
   "id": "3e184e4a",
   "metadata": {},
   "outputs": [
    {
     "name": "stdout",
     "output_type": "stream",
     "text": [
      "Resulting list : [5, 7, 9]\n"
     ]
    }
   ],
   "source": [
    "list1 = [1, 2, 3]\n",
    "list2 = [4, 5, 6]\n",
    "addition = []\n",
    "for i in range(len(list1)):\n",
    "    addition.append(list1[i] + list2[i])\n",
    "print(\"Resulting list :\", addition)"
   ]
  }
 ],
 "metadata": {
  "kernelspec": {
   "display_name": "Python 3 (ipykernel)",
   "language": "python",
   "name": "python3"
  },
  "language_info": {
   "codemirror_mode": {
    "name": "ipython",
    "version": 3
   },
   "file_extension": ".py",
   "mimetype": "text/x-python",
   "name": "python",
   "nbconvert_exporter": "python",
   "pygments_lexer": "ipython3",
   "version": "3.9.18"
  }
 },
 "nbformat": 4,
 "nbformat_minor": 5
}
