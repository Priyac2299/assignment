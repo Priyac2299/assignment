{
 "cells": [
  {
   "cell_type": "markdown",
   "id": "c38b084b",
   "metadata": {},
   "source": [
    "# Q.1 Write a Python program to check if a string is a palindrome?"
   ]
  },
  {
   "cell_type": "code",
   "execution_count": 12,
   "id": "34b3d47f",
   "metadata": {},
   "outputs": [
    {
     "name": "stdout",
     "output_type": "stream",
     "text": [
      "enter your string:madam\n",
      "string is palindrome\n"
     ]
    }
   ],
   "source": [
    "string=str(input(\"enter your string:\"))\n",
    "reversed_string=string[::-1]\n",
    "if(string==reversed_string):\n",
    "    print(\"string is palindrome\")\n",
    "else:\n",
    "    print(\"string is not palindrome\")"
   ]
  },
  {
   "cell_type": "markdown",
   "id": "ea10e591",
   "metadata": {},
   "source": [
    "# Q.2 Write a Python program to find the factorial of a number?"
   ]
  },
  {
   "cell_type": "code",
   "execution_count": 13,
   "id": "730d81cf",
   "metadata": {},
   "outputs": [
    {
     "name": "stdout",
     "output_type": "stream",
     "text": [
      "enter no:5\n",
      "120\n"
     ]
    }
   ],
   "source": [
    "n=int(input(\"enter no:\"))\n",
    "fact=1\n",
    "if(i<0):\n",
    "    print(\"does not exist \")\n",
    "if(i==0):\n",
    "    print(\"factorial is 1\")\n",
    "if(i>0):\n",
    "    for i in range(1,n+1):\n",
    "        fact=fact*i\n",
    "print(fact)"
   ]
  },
  {
   "cell_type": "markdown",
   "id": "2fd2ee19",
   "metadata": {},
   "source": [
    "# Q.3 Write a Python program to find the largest element in a list?"
   ]
  },
  {
   "cell_type": "code",
   "execution_count": 1,
   "id": "d74356fb",
   "metadata": {},
   "outputs": [
    {
     "name": "stdout",
     "output_type": "stream",
     "text": [
      "Maximum number: 6\n"
     ]
    }
   ],
   "source": [
    "list = [1,2,3,4,5,6]\n",
    "maxnum = list[0]\n",
    "for i in list:\n",
    "    if i > maxnum:\n",
    "        maxnum = i\n",
    "print(\"Maximum number:\", maxnum)"
   ]
  },
  {
   "cell_type": "markdown",
   "id": "88d1df2e",
   "metadata": {},
   "source": [
    "# Q.4  Write a Python program to reverse a string?"
   ]
  },
  {
   "cell_type": "code",
   "execution_count": 15,
   "id": "eded2136",
   "metadata": {},
   "outputs": [
    {
     "name": "stdout",
     "output_type": "stream",
     "text": [
      "enter your string:priyanka\n",
      "reversed string is : aknayirp\n"
     ]
    }
   ],
   "source": [
    "string=str(input(\"enter your string:\"))\n",
    "reversed_string=string[::-1]\n",
    "print(\"reversed string is :\",reversed_string)"
   ]
  },
  {
   "cell_type": "markdown",
   "id": "88d9ff4c",
   "metadata": {},
   "source": [
    "# Q.5 Write a Python program to count the frequency of each element in a list?"
   ]
  },
  {
   "cell_type": "code",
   "execution_count": 7,
   "id": "9ae4c08f",
   "metadata": {},
   "outputs": [
    {
     "name": "stdout",
     "output_type": "stream",
     "text": [
      "Frequency of each element:\n",
      "1: 3\n",
      "2: 3\n",
      "3: 2\n",
      "4: 2\n",
      "5: 1\n"
     ]
    }
   ],
   "source": [
    "arr = [1, 2, 3, 4, 1, 2, 2, 3, 4, 5, 1]\n",
    "frequency_dict = {}\n",
    "for element in arr:\n",
    "    if element in frequency_dict:\n",
    "        frequency_dict[element] += 1\n",
    "    else:\n",
    "        frequency_dict[element] = 1\n",
    "print(\"Frequency of each element:\")\n",
    "for element, freq in frequency_dict.items():\n",
    "    print(f\"{element}: {freq}\")"
   ]
  },
  {
   "cell_type": "markdown",
   "id": "7c33c1be",
   "metadata": {},
   "source": [
    "# Q.6 Write a Python program to check if a number is prime?"
   ]
  },
  {
   "cell_type": "code",
   "execution_count": 17,
   "id": "6cbb72f3",
   "metadata": {},
   "outputs": [
    {
     "name": "stdout",
     "output_type": "stream",
     "text": [
      "enter a no 7\n",
      "prime\n"
     ]
    }
   ],
   "source": [
    "n=int(input(\"enter a no \"))\n",
    "if n==1:\n",
    "    print(\"not prime\")\n",
    "if n>1:\n",
    "    for i in (2,n-1):\n",
    "        if(n%i==0):\n",
    "            print(\"not a prime\")\n",
    "            break\n",
    "    else:\n",
    "        print(\"prime\")"
   ]
  },
  {
   "cell_type": "markdown",
   "id": "f74b52cc",
   "metadata": {},
   "source": [
    "# Q.7 Write a Python program to find the common elements between two lists?"
   ]
  },
  {
   "cell_type": "code",
   "execution_count": 4,
   "id": "aa6e7fcc",
   "metadata": {},
   "outputs": [
    {
     "name": "stdout",
     "output_type": "stream",
     "text": [
      "The common elements are: [1 3]\n"
     ]
    }
   ],
   "source": [
    "import numpy as np\n",
    "\n",
    "arr1 = np.array([1, 3, 4, 3])\n",
    "arr2 = np.array([3, 1, 2, 1])\n",
    "\n",
    "result = np.intersect1d(arr1, arr2)\n",
    "\n",
    "print(\"The common elements are:\", result)"
   ]
  },
  {
   "cell_type": "markdown",
   "id": "57eea866",
   "metadata": {},
   "source": [
    "# Q.8 Write a Python program to sort a list of elements using the bubble sort algorithm?"
   ]
  },
  {
   "cell_type": "code",
   "execution_count": 6,
   "id": "cd033fa9",
   "metadata": {},
   "outputs": [
    {
     "name": "stdout",
     "output_type": "stream",
     "text": [
      "[1, 4, 7, 16, 17, 21, 25, 33, 70]\n"
     ]
    }
   ],
   "source": [
    "nlist = [4,16,33,17,7,1,25,21,70]\n",
    "for passnum in range(len(nlist)-1,0,-1):\n",
    "        for i in range(passnum):\n",
    "            if nlist[i]>nlist[i+1]:\n",
    "                temp = nlist[i]\n",
    "                nlist[i] = nlist[i+1]\n",
    "                nlist[i+1] = temp\n",
    "print(nlist)"
   ]
  },
  {
   "cell_type": "markdown",
   "id": "8bb53f23",
   "metadata": {},
   "source": [
    "# Q.9 Write a Python program to find the second largest number in a list?"
   ]
  },
  {
   "cell_type": "code",
   "execution_count": 13,
   "id": "fc2c5279",
   "metadata": {},
   "outputs": [
    {
     "name": "stdout",
     "output_type": "stream",
     "text": [
      "The second largest element of the list is: 30\n"
     ]
    }
   ],
   "source": [
    "list = [20, 30, 40, 25, 10]  \n",
    "list.sort()   \n",
    "print(\"The second largest element of the list is:\", list[-2])  "
   ]
  },
  {
   "cell_type": "markdown",
   "id": "317ae101",
   "metadata": {},
   "source": [
    "# Q.10 Write a Python program to remove duplicates from a list?"
   ]
  },
  {
   "cell_type": "code",
   "execution_count": 8,
   "id": "5aef1ea1",
   "metadata": {},
   "outputs": [
    {
     "name": "stdout",
     "output_type": "stream",
     "text": [
      "5\n",
      "3\n"
     ]
    }
   ],
   "source": [
    "a =  [5,3,3,2,5]\n",
    "for i in range(0,len(a)):\n",
    "    for j in range(i+1,len(a)):\n",
    "        if a[i]==a[j]:\n",
    "            print(a[i])"
   ]
  },
  {
   "cell_type": "markdown",
   "id": "e2f9b766",
   "metadata": {},
   "source": [
    "# Q.11 What is Python?How do you comment in Python?"
   ]
  },
  {
   "cell_type": "code",
   "execution_count": null,
   "id": "bc66f34c",
   "metadata": {},
   "outputs": [],
   "source": [
    "Python is a general purpose , high-level , interpreted programming language which was invented in 1991 by Guido Van Rossoum\n",
    "# is used to comment on python"
   ]
  },
  {
   "cell_type": "markdown",
   "id": "e6475ea8",
   "metadata": {},
   "source": [
    "# Q.12 What are the key features of Python?"
   ]
  },
  {
   "cell_type": "code",
   "execution_count": null,
   "id": "b3b43253",
   "metadata": {},
   "outputs": [],
   "source": [
    "--simple to use(Easy to code)--general purpose language--open-source \n",
    "--Object-oriented--Inheritance--Polymorphism--Encapsulation\n",
    "--abstraction--portable--Integrated language--Intrepreted Language(It will execute faster)\n",
    "--GUI-Support--Large set of standard Library--Dynamically typed language"
   ]
  },
  {
   "cell_type": "markdown",
   "id": "b1e64c02",
   "metadata": {},
   "source": [
    "# Q.13 Explain the difference between a list and a tuple?What is the purpose of the ‘self’ parameter in Python?"
   ]
  },
  {
   "cell_type": "code",
   "execution_count": null,
   "id": "ccc8ece1",
   "metadata": {},
   "outputs": [],
   "source": [
    "List(Mutuable):\n",
    "--Collection of multiple values of different types\n",
    "--It will stores values in indexed format\n",
    "--List is dynamic ie.growable as well as shrinkabe\n",
    "--List can be modified\n",
    "--List maitains insertion ordered\n",
    "--indentification ----[]\n",
    "\n",
    "Tuples\n",
    "--It is immutuable\n",
    "--a tuple is collection of item which is ordered and unchangable \n",
    "--Values cannot be changed\n",
    "--indentification –()"
   ]
  },
  {
   "cell_type": "markdown",
   "id": "7c6a284e",
   "metadata": {},
   "source": [
    "# Q.14 What is a module in Python?"
   ]
  },
  {
   "cell_type": "code",
   "execution_count": null,
   "id": "ebefe31e",
   "metadata": {},
   "outputs": [],
   "source": [
    "A module can define functions, classes, and variables, which can be accessed and used in other modules or scripts once imported.\n",
    "Modules help in organizing code into logical units and facilitate code reuse across different parts of a project or even across \n",
    "different projects."
   ]
  },
  {
   "cell_type": "markdown",
   "id": "a26cb7dd",
   "metadata": {},
   "source": [
    "# Q.15 How do you handle exceptions in Python?"
   ]
  },
  {
   "cell_type": "code",
   "execution_count": 15,
   "id": "03184680",
   "metadata": {},
   "outputs": [
    {
     "name": "stdout",
     "output_type": "stream",
     "text": [
      "Enter Number:0\n",
      "Please Don't pass zero\n"
     ]
    }
   ],
   "source": [
    "# In Python, exceptions are handled using the try, except, else, and finally blocks. \n",
    "try:\n",
    "    a = int(input(\"Enter Number:\"))\n",
    "    b = 5/a \n",
    "    print(b)\n",
    "except ValueError as e :\n",
    "    print(\"Please Enter a valid Number...\")\n",
    "except ZeroDivisionError as e :\n",
    "    print(\"Please Don't pass zero\")"
   ]
  },
  {
   "cell_type": "markdown",
   "id": "fc19d04e",
   "metadata": {},
   "source": [
    "# Q16 What is the purpose of the ‘if name == “main”’ statement?"
   ]
  },
  {
   "cell_type": "code",
   "execution_count": null,
   "id": "98dfaa57",
   "metadata": {},
   "outputs": [],
   "source": [
    "The if __name__ == \"__main__\": statement in Python serves as a conditional block that allows you to control the execution of \n",
    "code when the Python script is run directly as the main program."
   ]
  },
  {
   "cell_type": "markdown",
   "id": "fc87b37e",
   "metadata": {},
   "source": [
    "# Q.17 Explain the difference between ‘append()’ and ‘extend()’ methods for lists?"
   ]
  },
  {
   "cell_type": "code",
   "execution_count": null,
   "id": "89242a51",
   "metadata": {},
   "outputs": [],
   "source": [
    "append(): This method adds its argument as a single element to the end of the list. If the argument is itself a list, it is \n",
    "added as a single element, making the list a nested list.\n",
    "list1 = [1, 2, 3]\n",
    "list1.append(4)\n",
    "print(list1)"
   ]
  },
  {
   "cell_type": "code",
   "execution_count": null,
   "id": "8e1c0ced",
   "metadata": {},
   "outputs": [],
   "source": [
    "extend(): This method iterates over its argument, which should be an iterable such as a list, and adds each element to the end\n",
    "of the list. It effectively appends each element of the iterable to the original list.\n",
    "list1 = [1, 2, 3]\n",
    "list1.extend([4, 5])\n",
    "print(list1)"
   ]
  },
  {
   "cell_type": "markdown",
   "id": "ff708bcd",
   "metadata": {},
   "source": [
    "# Q.18 What is the ‘str’ function used for in Python?"
   ]
  },
  {
   "cell_type": "code",
   "execution_count": null,
   "id": "0dd5f113",
   "metadata": {},
   "outputs": [],
   "source": [
    "In Python, the str() function is used to convert non-string data types into a string representation. It can accept various\n",
    "types of input and return their string representations. "
   ]
  },
  {
   "cell_type": "markdown",
   "id": "94285103",
   "metadata": {},
   "source": [
    "# Q.19 Explain the difference between mutable and immutable data types in Python?"
   ]
  },
  {
   "cell_type": "code",
   "execution_count": null,
   "id": "144a99bd",
   "metadata": {},
   "outputs": [],
   "source": [
    "--Immutable Data Types:\n",
    "Immutable data types are those whose values cannot be changed after they are created.\n",
    "When you modify an immutable object, a new object is created in memory to hold the modified value.\n",
    "Examples of immutable data types in Python include integers, floats, strings, tuples, and frozensets.\n",
    "\n",
    "--Mutable Data Types:\n",
    "Mutable data types are those whose values can be changed after they are created.\n",
    "When you modify a mutable object, the changes are made directly to the existing object in memory.\n",
    "Examples of mutable data types in Python include lists, dictionaries, sets, and user-defined objects (classes)."
   ]
  },
  {
   "cell_type": "markdown",
   "id": "de10d852",
   "metadata": {},
   "source": [
    "# Q.20 How do you perform a shallow copy and a deep copy of a list in Python?"
   ]
  },
  {
   "cell_type": "code",
   "execution_count": 2,
   "id": "e0542d6c",
   "metadata": {},
   "outputs": [],
   "source": [
    "# Shallow Copy:\n",
    "# A shallow copy creates a new list object but doesn't create copies of the elements themselves. Instead, it copies references \n",
    "# to the original elements. Therefore, changes to the elements in the copied list will be reflected in the original list and \n",
    "# vice versa.\n",
    "original_list = [1, 2, 3, [4, 5]]\n",
    "shallow_copy = original_list.copy()\n",
    "shallow_copy = original_list[:]"
   ]
  },
  {
   "cell_type": "code",
   "execution_count": null,
   "id": "f85dd613",
   "metadata": {},
   "outputs": [],
   "source": [
    "# Deep Copy:\n",
    "# A deep copy, on the other hand, creates a completely new list object and recursively creates copies of all the objects found \n",
    "# in the original list, including nested lists. This means changes to the elements in the copied list will not affect the \n",
    "# original list, and vice versa.\n",
    "original_list = [1, 2, 3, [4, 5]]\n",
    "deep_copy = copy.deepcopy(original_list)"
   ]
  },
  {
   "cell_type": "markdown",
   "id": "2378a09a",
   "metadata": {},
   "source": [
    "# Q.21 What is a decorator in Python?Explain the difference between ‘==’, ‘is’, and ‘in’ operators."
   ]
  },
  {
   "cell_type": "code",
   "execution_count": null,
   "id": "48eabce2",
   "metadata": {},
   "outputs": [],
   "source": [
    "Decorators:\n",
    "Decorators are functions that modify the behavior of other functions or methods\n",
    "They allow you to add functionality to existing code without modifying the original function's code\n",
    "\n",
    "'==' (Equality Operator): It checks if the values of two operands are equal or not. It returns True if the values are equal,\n",
    "otherwise, it returns False. It compares the values of the objects.\n",
    "\n",
    "'is' (Identity Operator): It checks if the memory locations of two operands are the same or not. It returns True if both \n",
    "operands refer to the same object, otherwise, it returns False\n",
    "\n",
    "'in' (Membership Operator): It checks if a value exists in a sequence (such as strings, lists, tuples, etc.). It returns True \n",
    "if the value is found in the sequence, otherwise, it returns False."
   ]
  },
  {
   "cell_type": "markdown",
   "id": "5b56d8f0",
   "metadata": {},
   "source": [
    "# Q.22 How can you convert a string to an integer in Python?"
   ]
  },
  {
   "cell_type": "code",
   "execution_count": 3,
   "id": "1b410c35",
   "metadata": {},
   "outputs": [
    {
     "name": "stdout",
     "output_type": "stream",
     "text": [
      "123\n"
     ]
    }
   ],
   "source": [
    "string = \"123\"\n",
    "integer = int(string)\n",
    "print(integer)"
   ]
  },
  {
   "cell_type": "markdown",
   "id": "e2c6f5c4",
   "metadata": {},
   "source": [
    "# Q.23 What is the purpose of the ‘pass’ statement in Python?"
   ]
  },
  {
   "cell_type": "code",
   "execution_count": null,
   "id": "4988f063",
   "metadata": {},
   "outputs": [],
   "source": [
    "Pass: In Python, the pass statement is a null operation; it does nothing when executed. It is typically used as a placeholder \n",
    "where syntactically some code is required but you don't want to execute any statements."
   ]
  },
  {
   "cell_type": "markdown",
   "id": "dcd0e5ed",
   "metadata": {},
   "source": [
    "# Q.24 What is the purpose of the ‘range()’ function?"
   ]
  },
  {
   "cell_type": "code",
   "execution_count": null,
   "id": "bbbae0f2",
   "metadata": {},
   "outputs": [],
   "source": [
    "The range() function in Python is used to generate a sequence of numbers. It's commonly used in looping constructs like for \n",
    "loops to iterate over a sequence of numbers."
   ]
  },
  {
   "cell_type": "markdown",
   "id": "a9d547bf",
   "metadata": {},
   "source": [
    "# Q.24 What is a lambda function?"
   ]
  },
  {
   "cell_type": "code",
   "execution_count": null,
   "id": "62ab9e6f",
   "metadata": {},
   "outputs": [],
   "source": [
    "Lambda Function ==> A lambda function can take any number of arguments but can only have single expression . \n",
    "syntax : lambda arguments : expression"
   ]
  },
  {
   "cell_type": "markdown",
   "id": "088ca459",
   "metadata": {},
   "source": [
    "# Q.25 Explain indexing and slicing in Python?"
   ]
  },
  {
   "cell_type": "code",
   "execution_count": null,
   "id": "58b74b9f",
   "metadata": {},
   "outputs": [],
   "source": [
    "Indexing:\n",
    "Indexing refers to accessing individual elements within a sequence using their position or index. In Python, indexing starts\n",
    "from 0 for the first element, 1 for the second element, and so on.\n",
    "list = [10, 20, 30, 40, 50]\n",
    "print(list[0])"
   ]
  },
  {
   "cell_type": "code",
   "execution_count": null,
   "id": "5d0d6549",
   "metadata": {},
   "outputs": [],
   "source": [
    "Slicing:\n",
    "Slicing refers to extracting a portion of a sequence, rather than a single element. It allows you to create a new sequence \n",
    "containing a subset of the original elements.\n",
    "list = [10, 20, 30, 40, 50]\n",
    "print(list[1:4])"
   ]
  },
  {
   "cell_type": "markdown",
   "id": "7a4808db",
   "metadata": {},
   "source": [
    "# Q.26 How can you reverse a list in Python?"
   ]
  },
  {
   "cell_type": "code",
   "execution_count": 4,
   "id": "3325b59f",
   "metadata": {},
   "outputs": [
    {
     "name": "stdout",
     "output_type": "stream",
     "text": [
      "[5, 4, 3, 2, 1]\n"
     ]
    }
   ],
   "source": [
    "list = [1, 2, 3, 4, 5]\n",
    "reversedlist = list[::-1]\n",
    "print(reversedlist) "
   ]
  },
  {
   "cell_type": "markdown",
   "id": "d604e8ef",
   "metadata": {},
   "source": [
    "# Q.27 What is the difference between ‘pop()’ and ‘remove()’ methods for lists?"
   ]
  },
  {
   "cell_type": "code",
   "execution_count": null,
   "id": "3d111017",
   "metadata": {},
   "outputs": [],
   "source": [
    "Remove()-delete element from the list                                       \n",
    "syntax : list.remove(object)\n",
    "    \n",
    "Pop()- delete the list                                                    \n",
    "syntax : list.pop()"
   ]
  },
  {
   "cell_type": "markdown",
   "id": "4b5a03e6",
   "metadata": {},
   "source": [
    "# Q.28 What is a set in Python?Difference between frozenset or NormalSet ?"
   ]
  },
  {
   "cell_type": "code",
   "execution_count": null,
   "id": "070a41d6",
   "metadata": {},
   "outputs": [],
   "source": [
    "Set\n",
    "--it is collection of unique values.\n",
    "--Set is unordered because it stores the values in non-indexed format\n",
    "--indentification-{}\n",
    "Normal set ---mutable (we can modify the normal set)\n",
    "Frozen set ---immutable(we can not modify the frozen set) "
   ]
  },
  {
   "cell_type": "markdown",
   "id": "a6867628",
   "metadata": {},
   "source": [
    "# Q.29 What is a dictionary comprehension in Python?"
   ]
  },
  {
   "cell_type": "code",
   "execution_count": null,
   "id": "1184477f",
   "metadata": {},
   "outputs": [],
   "source": [
    "Dictionary comprehension\n",
    "Dictionary comprehension is similar to list comprehension but is used to create dictionaries. It allows you to generate \n",
    "dictionaries from iterables using a concise and readable syntax."
   ]
  },
  {
   "cell_type": "markdown",
   "id": "5e6de34c",
   "metadata": {},
   "source": [
    "# Q.30 How can you convert a list of strings to a single string in Python?"
   ]
  },
  {
   "cell_type": "code",
   "execution_count": 5,
   "id": "ed350700",
   "metadata": {},
   "outputs": [
    {
     "name": "stdout",
     "output_type": "stream",
     "text": [
      "my name is priyanka\n"
     ]
    }
   ],
   "source": [
    "list = [\"my\", \"name\", \"is\",\"priyanka\"]\n",
    "singlestring = \" \".join(list)\n",
    "print(singlestring)"
   ]
  },
  {
   "cell_type": "markdown",
   "id": "c48701ea",
   "metadata": {},
   "source": [
    "# Q.31  How can you find the length of a string in Python?"
   ]
  },
  {
   "cell_type": "code",
   "execution_count": 7,
   "id": "d2f3e428",
   "metadata": {},
   "outputs": [
    {
     "name": "stdout",
     "output_type": "stream",
     "text": [
      "18\n"
     ]
    }
   ],
   "source": [
    "string = \"priyanka choudhary\"\n",
    "length = len(string)\n",
    "print(length) "
   ]
  },
  {
   "cell_type": "markdown",
   "id": "ba4f6c96",
   "metadata": {},
   "source": [
    "# Q.32 How can you convert a string to uppercase and lowercase in Python?"
   ]
  },
  {
   "cell_type": "code",
   "execution_count": 8,
   "id": "2f8887f7",
   "metadata": {},
   "outputs": [
    {
     "name": "stdout",
     "output_type": "stream",
     "text": [
      "PRIYANKA CHOUDHARY\n",
      "priyanka choudhary\n"
     ]
    }
   ],
   "source": [
    "string = \"Priyanka Choudhary\"\n",
    "\n",
    "uppercase_string = string.upper()\n",
    "print(uppercase_string) \n",
    "\n",
    "lowercase_string = string.lower()\n",
    "print(lowercase_string)  "
   ]
  },
  {
   "cell_type": "markdown",
   "id": "5a2f2216",
   "metadata": {},
   "source": [
    "# Q.33 How can you remove duplicates from a list in Python?"
   ]
  },
  {
   "cell_type": "code",
   "execution_count": 9,
   "id": "c959ad0d",
   "metadata": {},
   "outputs": [
    {
     "name": "stdout",
     "output_type": "stream",
     "text": [
      "[1, 2, 3, 4, 5]\n"
     ]
    }
   ],
   "source": [
    "my_list = [1, 2, 3, 3, 4, 5, 5]\n",
    "unique_list = []\n",
    "for item in my_list:\n",
    "    if item not in unique_list:\n",
    "        unique_list.append(item)\n",
    "\n",
    "print(unique_list) "
   ]
  },
  {
   "cell_type": "markdown",
   "id": "670e11f3",
   "metadata": {},
   "source": [
    "# Q.34 Explain the purpose of the ‘random’ module in Python?"
   ]
  },
  {
   "cell_type": "code",
   "execution_count": null,
   "id": "48c3dfde",
   "metadata": {},
   "outputs": [],
   "source": [
    "The random module in Python provides functions for generating random numbers and performing random selections. It is widely \n",
    "used in various applications such as simulations, games, cryptography, and statistical analysis.\n",
    "random() function: Returns a random floating-point number in the range [0.0, 1.0).\n",
    "randint(a, b) function: Returns a random integer between a and b (inclusive).\n",
    "uniform(a, b) function: Returns a random floating-point number between a and b (inclusive)."
   ]
  }
 ],
 "metadata": {
  "kernelspec": {
   "display_name": "Python 3 (ipykernel)",
   "language": "python",
   "name": "python3"
  },
  "language_info": {
   "codemirror_mode": {
    "name": "ipython",
    "version": 3
   },
   "file_extension": ".py",
   "mimetype": "text/x-python",
   "name": "python",
   "nbconvert_exporter": "python",
   "pygments_lexer": "ipython3",
   "version": "3.9.18"
  }
 },
 "nbformat": 4,
 "nbformat_minor": 5
}
