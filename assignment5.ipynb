{
 "cells": [
  {
   "cell_type": "markdown",
   "id": "8fece290",
   "metadata": {},
   "source": [
    "# Q.1 Difference between Decorators And Generators in Python ? "
   ]
  },
  {
   "cell_type": "code",
   "execution_count": null,
   "id": "884144cf",
   "metadata": {},
   "outputs": [],
   "source": [
    "# Decorators:\n",
    "\n",
    "# Decorators are functions that modify the behavior of other functions or methods. They allow you to add functionality to\n",
    "# existing code without modifying the original function's code [2].\n",
    "# They accept a function as an argument and return a modified function or a new function altogether.\n",
    "# Decorators are typically used for adding logging, authentication, or other cross-cutting concerns to functions"
   ]
  },
  {
   "cell_type": "code",
   "execution_count": null,
   "id": "e55f07fc",
   "metadata": {},
   "outputs": [],
   "source": [
    "# Generators:\n",
    "# \n",
    "# Generators are special types of functions that allow you to generate a sequence of values lazily rather than storing them in\n",
    "# memory all at once.\n",
    "# They are defined using a yield statement within a function.\n",
    "# Generators are useful when dealing with large datasets or when you want to iterate over a sequence without loading it \n",
    "# entirely into memory "
   ]
  },
  {
   "cell_type": "markdown",
   "id": "ce694daf",
   "metadata": {},
   "source": [
    "# Q.2 What is List Comprehension , Tuple Comprehension , Dictionary Comprehension ?"
   ]
  },
  {
   "cell_type": "code",
   "execution_count": 1,
   "id": "b981c610",
   "metadata": {},
   "outputs": [],
   "source": [
    "# List Comprehension\n",
    "# A Python list comprehension consists of brackets containing the expression, which is executed for each element along with the\n",
    "# for loop to iterate over each element in the Python list."
   ]
  },
  {
   "cell_type": "code",
   "execution_count": null,
   "id": "4437fabb",
   "metadata": {},
   "outputs": [],
   "source": [
    "# Tuple Comprehension\n",
    "# Tuple comprehension, unlike list comprehension, doesn't exist in Python because tuples are immutable, and they cannot be \n",
    "# modified after creation. Therefore, there's no mechanism to create tuples dynamically like list comprehension "
   ]
  },
  {
   "cell_type": "code",
   "execution_count": null,
   "id": "bd699c0b",
   "metadata": {},
   "outputs": [],
   "source": [
    "# Dictionary comprehension\n",
    "# Dictionary comprehension is similar to list comprehension but is used to create dictionaries. It allows you to generate \n",
    "# dictionaries from iterables using a concise and readable syntax."
   ]
  },
  {
   "cell_type": "markdown",
   "id": "d3f764b9",
   "metadata": {},
   "source": [
    "# Q.3 Create a student Table in which columns are (student_id , student_name , subject , semester , performance). You have to insert 10 rows . Now sort the data according to performace .And calculate average , min , max number of performance ?  "
   ]
  },
  {
   "cell_type": "code",
   "execution_count": null,
   "id": "4ec0f537",
   "metadata": {},
   "outputs": [],
   "source": [
    "CREATE DATABASE stud_info\n",
    "CREATE TABLE Student_table(\n",
    "    StudentID int PRIMARY KEY,\n",
    "    StudentName varchar(20),\n",
    "    SubjectName varchar(20),\n",
    "    Semester int,\n",
    "    Performance int);\n",
    "INSERT INTO student_table\n",
    "VALUES \n",
    "(1,\"priyanka\",\"Math\",1,86),\n",
    "(2,\"anagha\",\"English\",2,80),\n",
    "(3,\"Kanchu\",\"Science\",4,65),\n",
    "(4,\"shankar\",\"Hindi\",6,87),\n",
    "(5,\"sita\",\"Chemistry\",1,74),\n",
    "(6,\"ram\",\"Physics\",7,96),\n",
    "(7,\"jiya\",\"Maths\",5,85),\n",
    "(8,\"rudra\",\"Hindi\",4,72),\n",
    "(9,\"Geeta\",\"Science\",8,82),\n",
    "(10,\"advait\",\"Math\",4,67);\n",
    "\n",
    "SELECT * from student_table;\n",
    "\n",
    "ORDER BY Performance Asc;\n",
    "\n",
    "SELECT MAX(Performance) from student_table;\n",
    "\n",
    "SELECT AVG(Performance) from student_table;\n",
    "\n",
    "SELECT MIN(Performance) from student_table;"
   ]
  }
 ],
 "metadata": {
  "kernelspec": {
   "display_name": "Python 3 (ipykernel)",
   "language": "python",
   "name": "python3"
  },
  "language_info": {
   "codemirror_mode": {
    "name": "ipython",
    "version": 3
   },
   "file_extension": ".py",
   "mimetype": "text/x-python",
   "name": "python",
   "nbconvert_exporter": "python",
   "pygments_lexer": "ipython3",
   "version": "3.9.18"
  }
 },
 "nbformat": 4,
 "nbformat_minor": 5
}
